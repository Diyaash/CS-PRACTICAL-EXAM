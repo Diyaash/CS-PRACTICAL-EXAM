{
  "nbformat": 4,
  "nbformat_minor": 0,
  "metadata": {
    "colab": {
      "provenance": [],
      "toc_visible": true,
      "authorship_tag": "ABX9TyMRSBsI/VE+Xy9KoErLDGQE",
      "include_colab_link": true
    },
    "kernelspec": {
      "name": "python3",
      "display_name": "Python 3"
    },
    "language_info": {
      "name": "python"
    }
  },
  "cells": [
    {
      "cell_type": "markdown",
      "metadata": {
        "id": "view-in-github",
        "colab_type": "text"
      },
      "source": [
        "<a href=\"https://colab.research.google.com/github/Diyaash/CS-PRACTICAL-EXAM/blob/main/Python%20Basics%20DSAI%201.ipynb\" target=\"_parent\"><img src=\"https://colab.research.google.com/assets/colab-badge.svg\" alt=\"Open In Colab\"/></a>"
      ]
    },
    {
      "cell_type": "markdown",
      "source": [
        "PRINT COMMANDS"
      ],
      "metadata": {
        "id": "NHRNKPiuYPhB"
      }
    },
    {
      "cell_type": "code",
      "execution_count": 1,
      "metadata": {
        "colab": {
          "base_uri": "https://localhost:8080/"
        },
        "id": "En5i3PBaSppG",
        "outputId": "83d5f1eb-23ec-4e57-8341-703b19b99cbd"
      },
      "outputs": [
        {
          "output_type": "stream",
          "name": "stdout",
          "text": [
            "Hello World!\n"
          ]
        }
      ],
      "source": [
        "print(\"Hello World!\")"
      ]
    },
    {
      "cell_type": "code",
      "source": [
        "print(\"Hello\")\n",
        "print(9 * \"\\n\")\n",
        "print(\"World!\")"
      ],
      "metadata": {
        "colab": {
          "base_uri": "https://localhost:8080/"
        },
        "id": "rmnue-CmTtor",
        "outputId": "d4b5e0b5-15b9-4ded-b15c-5176b2ed93a1"
      },
      "execution_count": 6,
      "outputs": [
        {
          "output_type": "stream",
          "name": "stdout",
          "text": [
            "Hello\n",
            "\n",
            "\n",
            "\n",
            "\n",
            "\n",
            "\n",
            "\n",
            "\n",
            "\n",
            "\n",
            "World!\n"
          ]
        }
      ]
    },
    {
      "cell_type": "code",
      "source": [
        "print(\"Jan\\nFeb\\nMar\\nApr\\nMay\")"
      ],
      "metadata": {
        "colab": {
          "base_uri": "https://localhost:8080/"
        },
        "id": "DjIDSjKHUMRe",
        "outputId": "4c81ea95-721e-40bd-b37f-aff7a2ad0e96"
      },
      "execution_count": 7,
      "outputs": [
        {
          "output_type": "stream",
          "name": "stdout",
          "text": [
            "Jan\n",
            "Feb\n",
            "Mar\n",
            "Apr\n",
            "May\n"
          ]
        }
      ]
    },
    {
      "cell_type": "code",
      "source": [
        "print(\"\"\"\n",
        "Routine:\n",
        "\\t-EAT\n",
        "\\t-SLEEP\n",
        "\\t-WORK\n",
        "\\n\n",
        ".\n",
        "REPEAT\"\"\") #three quotes are used for multiple lines without repeated print command or \\n"
      ],
      "metadata": {
        "colab": {
          "base_uri": "https://localhost:8080/"
        },
        "id": "DZW33rOLUveX",
        "outputId": "54965d33-c2de-4898-bd0f-708b06ce2264"
      },
      "execution_count": 9,
      "outputs": [
        {
          "output_type": "stream",
          "name": "stdout",
          "text": [
            "\n",
            "Routine:\n",
            "\t-EAT\n",
            "\t-SLEEP\n",
            "\t-WORK\n",
            "\n",
            "\n",
            ".\n",
            "REPEAT\n"
          ]
        }
      ]
    },
    {
      "cell_type": "code",
      "source": [
        "print(\"Python \" , end = '#\\n')\n",
        "print(\"134\" , end = '%') #end command is used for printing something at the end of the code"
      ],
      "metadata": {
        "colab": {
          "base_uri": "https://localhost:8080/"
        },
        "id": "7kJnj9U4Vx-2",
        "outputId": "985a59de-5cc9-44a3-d66e-fc7f1a89c2b6"
      },
      "execution_count": 20,
      "outputs": [
        {
          "output_type": "stream",
          "name": "stdout",
          "text": [
            "Python #\n",
            "134%"
          ]
        }
      ]
    },
    {
      "cell_type": "code",
      "source": [
        "print(\"_D\" * 10) #multiplying a certain text or string certain times"
      ],
      "metadata": {
        "colab": {
          "base_uri": "https://localhost:8080/"
        },
        "id": "EvCU11C2XSrp",
        "outputId": "b0f23c5b-043a-4fc2-c0c0-07f003b2da79"
      },
      "execution_count": 21,
      "outputs": [
        {
          "output_type": "stream",
          "name": "stdout",
          "text": [
            "_D_D_D_D_D_D_D_D_D_D\n"
          ]
        }
      ]
    },
    {
      "cell_type": "markdown",
      "source": [],
      "metadata": {
        "id": "4U-6xJjHV2ff"
      }
    },
    {
      "cell_type": "code",
      "source": [
        "x = 5\n",
        "print(\"Diya\\t\" * x) #defining a variable value\n"
      ],
      "metadata": {
        "colab": {
          "base_uri": "https://localhost:8080/"
        },
        "id": "1DXnMKhzXbJS",
        "outputId": "616a8d8d-2e83-451a-909f-657acea537c6"
      },
      "execution_count": 23,
      "outputs": [
        {
          "output_type": "stream",
          "name": "stdout",
          "text": [
            "Diya\tDiya\tDiya\tDiya\tDiya\t\n"
          ]
        }
      ]
    },
    {
      "cell_type": "code",
      "source": [],
      "metadata": {
        "id": "H7RSQm02XyIG"
      },
      "execution_count": null,
      "outputs": []
    },
    {
      "cell_type": "markdown",
      "source": [
        "IDENTIFIERS"
      ],
      "metadata": {
        "id": "jS5VBerrYF_S"
      }
    },
    {
      "cell_type": "code",
      "source": [
        "this_is_an_operation_1 = 5 + 6\n"
      ],
      "metadata": {
        "id": "bI6LASwzXqqF"
      },
      "execution_count": 29,
      "outputs": []
    },
    {
      "cell_type": "code",
      "source": [
        "this_is_an_operation = '5 + 6'"
      ],
      "metadata": {
        "id": "VnSlLREIZO1n"
      },
      "execution_count": 26,
      "outputs": []
    },
    {
      "cell_type": "code",
      "source": [
        "type(this_is_an_operation)"
      ],
      "metadata": {
        "colab": {
          "base_uri": "https://localhost:8080/"
        },
        "id": "ROfxRaL1ZWC1",
        "outputId": "fe7530d5-3c7c-4aa0-c6a4-103b89ffc8fd"
      },
      "execution_count": 27,
      "outputs": [
        {
          "output_type": "execute_result",
          "data": {
            "text/plain": [
              "str"
            ]
          },
          "metadata": {},
          "execution_count": 27
        }
      ]
    },
    {
      "cell_type": "code",
      "source": [
        "type(this_is_an_operation_1)"
      ],
      "metadata": {
        "colab": {
          "base_uri": "https://localhost:8080/"
        },
        "id": "T8WlNHDKZazt",
        "outputId": "01f13c9f-0c89-4f0b-b34b-29cb864db6b9"
      },
      "execution_count": 30,
      "outputs": [
        {
          "output_type": "execute_result",
          "data": {
            "text/plain": [
              "int"
            ]
          },
          "metadata": {},
          "execution_count": 30
        }
      ]
    },
    {
      "cell_type": "code",
      "source": [
        "555 + 999 #direct operations without print commands"
      ],
      "metadata": {
        "colab": {
          "base_uri": "https://localhost:8080/"
        },
        "id": "6tb52QIwZpcQ",
        "outputId": "53ba6923-4e22-4237-84e3-9b47c8590a3c"
      },
      "execution_count": 31,
      "outputs": [
        {
          "output_type": "execute_result",
          "data": {
            "text/plain": [
              "1554"
            ]
          },
          "metadata": {},
          "execution_count": 31
        }
      ]
    },
    {
      "cell_type": "code",
      "source": [
        "abc = 789 / 987\n",
        "print(abc) #to solve or directly write abc to execute\n",
        "type(abc) #float is decimal point"
      ],
      "metadata": {
        "colab": {
          "base_uri": "https://localhost:8080/"
        },
        "id": "tsUy-R71ZzEF",
        "outputId": "9fd6c03a-f478-4d49-8696-72badffbdd73"
      },
      "execution_count": 39,
      "outputs": [
        {
          "output_type": "stream",
          "name": "stdout",
          "text": [
            "0.7993920972644377\n"
          ]
        },
        {
          "output_type": "execute_result",
          "data": {
            "text/plain": [
              "float"
            ]
          },
          "metadata": {},
          "execution_count": 39
        }
      ]
    },
    {
      "cell_type": "markdown",
      "source": [],
      "metadata": {
        "id": "EBBsXP4pawnV"
      }
    },
    {
      "cell_type": "markdown",
      "source": [
        "***LOOOPS - FOR, IF ELSE, ELIF, NESTED***"
      ],
      "metadata": {
        "id": "rYo0AUDMa1EI"
      }
    },
    {
      "cell_type": "code",
      "source": [
        "for i in range(10):\n",
        "  print(i)"
      ],
      "metadata": {
        "colab": {
          "base_uri": "https://localhost:8080/"
        },
        "id": "agT6NKz6aE5F",
        "outputId": "c8e1d40a-12bd-44e5-a6aa-0c393087856a"
      },
      "execution_count": 40,
      "outputs": [
        {
          "output_type": "stream",
          "name": "stdout",
          "text": [
            "0\n",
            "1\n",
            "2\n",
            "3\n",
            "4\n",
            "5\n",
            "6\n",
            "7\n",
            "8\n",
            "9\n"
          ]
        }
      ]
    },
    {
      "cell_type": "code",
      "source": [
        "dd = 5  #specifying a variable and operations\n",
        "dd = dd * 55\n",
        "if dd > 100:\n",
        "  print(dd)\n",
        "  print(\"dd is greater than 100\")\n",
        "else:\n",
        "  print(dd)\n",
        "  print(\"dd is less than 100\")"
      ],
      "metadata": {
        "colab": {
          "base_uri": "https://localhost:8080/"
        },
        "id": "QSuyPgZDbG9v",
        "outputId": "3162d603-902d-47d6-912d-e96dbf44b927"
      },
      "execution_count": 45,
      "outputs": [
        {
          "output_type": "stream",
          "name": "stdout",
          "text": [
            "275\n",
            "dd is greater than 100\n"
          ]
        }
      ]
    },
    {
      "cell_type": "code",
      "source": [
        "for i in range(7,99, 5): #10 is the steps- ie the skips in bw outputs in a range\n",
        "  print(i)\n",
        "  if i > 80:\n",
        "    print(\"MUCH\")\n",
        "  else:\n",
        "    print(\"NOO\")"
      ],
      "metadata": {
        "colab": {
          "base_uri": "https://localhost:8080/"
        },
        "id": "csOi4PTUcB3N",
        "outputId": "fc0900e6-809a-46ee-aa72-e3a35edce242"
      },
      "execution_count": 53,
      "outputs": [
        {
          "output_type": "stream",
          "name": "stdout",
          "text": [
            "7\n",
            "NOO\n",
            "12\n",
            "NOO\n",
            "17\n",
            "NOO\n",
            "22\n",
            "NOO\n",
            "27\n",
            "NOO\n",
            "32\n",
            "NOO\n",
            "37\n",
            "NOO\n",
            "42\n",
            "NOO\n",
            "47\n",
            "NOO\n",
            "52\n",
            "NOO\n",
            "57\n",
            "NOO\n",
            "62\n",
            "NOO\n",
            "67\n",
            "NOO\n",
            "72\n",
            "NOO\n",
            "77\n",
            "NOO\n",
            "82\n",
            "MUCH\n",
            "87\n",
            "MUCH\n",
            "92\n",
            "MUCH\n",
            "97\n",
            "MUCH\n"
          ]
        }
      ]
    },
    {
      "cell_type": "markdown",
      "source": [
        "IF ELIF ELSE"
      ],
      "metadata": {
        "id": "BniX6OGzfmtg"
      }
    },
    {
      "cell_type": "code",
      "source": [
        "for i in range(1,20):\n",
        "    print(i)\n",
        "    if i < 10:              #first condition\n",
        "      print(\"1 to 10!\")\n",
        "    elif 10 <= i < 15:      #another additionl condition\n",
        "      print(\"10 to 15!\")\n",
        "    else:                   #if both conditions fail\n",
        "      print(\"More than 15!\")"
      ],
      "metadata": {
        "colab": {
          "base_uri": "https://localhost:8080/"
        },
        "id": "N2pG2RT3dyiK",
        "outputId": "a6848d84-0ff2-4f75-aad7-b0df9953add1"
      },
      "execution_count": 52,
      "outputs": [
        {
          "output_type": "stream",
          "name": "stdout",
          "text": [
            "1\n",
            "1 to 10!\n",
            "2\n",
            "1 to 10!\n",
            "3\n",
            "1 to 10!\n",
            "4\n",
            "1 to 10!\n",
            "5\n",
            "1 to 10!\n",
            "6\n",
            "1 to 10!\n",
            "7\n",
            "1 to 10!\n",
            "8\n",
            "1 to 10!\n",
            "9\n",
            "1 to 10!\n",
            "10\n",
            "10 to 15!\n",
            "11\n",
            "10 to 15!\n",
            "12\n",
            "10 to 15!\n",
            "13\n",
            "10 to 15!\n",
            "14\n",
            "10 to 15!\n",
            "15\n",
            "More than 15!\n",
            "16\n",
            "More than 15!\n",
            "17\n",
            "More than 15!\n",
            "18\n",
            "More than 15!\n",
            "19\n",
            "More than 15!\n"
          ]
        }
      ]
    },
    {
      "cell_type": "code",
      "source": [
        "for i in range(1,11):\n",
        "    print(i)\n",
        "    if i == 5:\n",
        "      print(\"My iterator is 5 !!\") #if without else"
      ],
      "metadata": {
        "colab": {
          "base_uri": "https://localhost:8080/"
        },
        "id": "WseHlZkTfGBk",
        "outputId": "aa7d2c00-fa45-4628-a5fc-515df75fc245"
      },
      "execution_count": 54,
      "outputs": [
        {
          "output_type": "stream",
          "name": "stdout",
          "text": [
            "1\n",
            "2\n",
            "3\n",
            "4\n",
            "5\n",
            "My iterator is 5 !!\n",
            "6\n",
            "7\n",
            "8\n",
            "9\n",
            "10\n"
          ]
        }
      ]
    },
    {
      "cell_type": "code",
      "source": [
        "\"\"\"uiuiui\"\"\""
      ],
      "metadata": {
        "colab": {
          "base_uri": "https://localhost:8080/",
          "height": 35
        },
        "id": "7INlysCwgH2U",
        "outputId": "6b78acd2-63ad-4839-ff80-c1cb344daa54"
      },
      "execution_count": 57,
      "outputs": [
        {
          "output_type": "execute_result",
          "data": {
            "text/plain": [
              "'uiuiui'"
            ],
            "application/vnd.google.colaboratory.intrinsic+json": {
              "type": "string"
            }
          },
          "metadata": {},
          "execution_count": 57
        }
      ]
    },
    {
      "cell_type": "code",
      "source": [
        "def funcc(num):\n",
        "   return(num * 3)\n",
        ""
      ],
      "metadata": {
        "id": "VNmY4nLqgYWB"
      },
      "execution_count": 66,
      "outputs": []
    },
    {
      "cell_type": "code",
      "source": [
        "a = b = c  = \"Rahul\""
      ],
      "metadata": {
        "id": "05D8sa8qg8vT"
      },
      "execution_count": 68,
      "outputs": []
    },
    {
      "cell_type": "code",
      "source": [
        "c"
      ],
      "metadata": {
        "colab": {
          "base_uri": "https://localhost:8080/",
          "height": 35
        },
        "id": "21YoCv__iYzh",
        "outputId": "96902b6c-3a54-45cd-8d19-462936653172"
      },
      "execution_count": 69,
      "outputs": [
        {
          "output_type": "execute_result",
          "data": {
            "text/plain": [
              "'Rahul'"
            ],
            "application/vnd.google.colaboratory.intrinsic+json": {
              "type": "string"
            }
          },
          "metadata": {},
          "execution_count": 69
        }
      ]
    },
    {
      "cell_type": "code",
      "source": [
        "b"
      ],
      "metadata": {
        "colab": {
          "base_uri": "https://localhost:8080/",
          "height": 35
        },
        "id": "MrF8aFEXikDx",
        "outputId": "56d75f92-53e8-4a36-cc67-e974979c5b3a"
      },
      "execution_count": 70,
      "outputs": [
        {
          "output_type": "execute_result",
          "data": {
            "text/plain": [
              "'Rahul'"
            ],
            "application/vnd.google.colaboratory.intrinsic+json": {
              "type": "string"
            }
          },
          "metadata": {},
          "execution_count": 70
        }
      ]
    },
    {
      "cell_type": "code",
      "source": [
        "a , b , c = 50 , \"Delhi\" , \"Diya\" #the variables would be defined in the same manner and sequence i.e a is 50 and b is delhi"
      ],
      "metadata": {
        "id": "0MMzWC_xilHC"
      },
      "execution_count": 74,
      "outputs": []
    },
    {
      "cell_type": "code",
      "source": [
        "b"
      ],
      "metadata": {
        "colab": {
          "base_uri": "https://localhost:8080/",
          "height": 35
        },
        "id": "41zmenY7i18b",
        "outputId": "fae17d87-0dde-45a3-808c-509592ad2888"
      },
      "execution_count": 72,
      "outputs": [
        {
          "output_type": "execute_result",
          "data": {
            "text/plain": [
              "'Delhi'"
            ],
            "application/vnd.google.colaboratory.intrinsic+json": {
              "type": "string"
            }
          },
          "metadata": {},
          "execution_count": 72
        }
      ]
    },
    {
      "cell_type": "code",
      "source": [
        "c"
      ],
      "metadata": {
        "colab": {
          "base_uri": "https://localhost:8080/",
          "height": 35
        },
        "id": "YSYiB9Vci2xj",
        "outputId": "51465ce2-585f-4ff2-dde1-df8d06ae73c8"
      },
      "execution_count": 73,
      "outputs": [
        {
          "output_type": "execute_result",
          "data": {
            "text/plain": [
              "'Diya'"
            ],
            "application/vnd.google.colaboratory.intrinsic+json": {
              "type": "string"
            }
          },
          "metadata": {},
          "execution_count": 73
        }
      ]
    },
    {
      "cell_type": "markdown",
      "source": [
        "**CONSTANTS** - remain the same throughout"
      ],
      "metadata": {
        "id": "HtZ7jPTPm9k9"
      }
    },
    {
      "cell_type": "code",
      "source": [
        "#Type conversion eg int to float or string\n",
        "x = 7.90\n",
        "type(x)"
      ],
      "metadata": {
        "colab": {
          "base_uri": "https://localhost:8080/"
        },
        "id": "pym3C8n-nKer",
        "outputId": "b2a37cd3-8055-443c-ce0e-9ca4bc922dce"
      },
      "execution_count": 75,
      "outputs": [
        {
          "output_type": "execute_result",
          "data": {
            "text/plain": [
              "float"
            ]
          },
          "metadata": {},
          "execution_count": 75
        }
      ]
    },
    {
      "cell_type": "code",
      "source": [
        "y = int(x) #converting into the integer value of 7.90\n",
        "y\n",
        "z = int(x)\n",
        "z"
      ],
      "metadata": {
        "colab": {
          "base_uri": "https://localhost:8080/"
        },
        "id": "eJhkGVi6oN3E",
        "outputId": "720e0125-db62-4b8e-d400-d0f7e475e2e7"
      },
      "execution_count": 79,
      "outputs": [
        {
          "output_type": "execute_result",
          "data": {
            "text/plain": [
              "7"
            ]
          },
          "metadata": {},
          "execution_count": 79
        }
      ]
    },
    {
      "cell_type": "code",
      "source": [
        "#BOOLEAN LITERALS. #REMEMBER  True == 1   False == 0\n",
        "\n",
        "x = (1 == True)\n",
        "y = (1 == False)\n",
        "a = True + 6\n",
        "b = False + 90\n",
        "\n",
        "print(\"x is\", x)\n",
        "print(\"y is\", y)\n",
        "print(\"a:\", a)\n",
        "print(\"b:\", b)"
      ],
      "metadata": {
        "colab": {
          "base_uri": "https://localhost:8080/"
        },
        "id": "DCDIdqvDoTO7",
        "outputId": "629984dc-0000-4ce7-ce57-217278bcc3ef"
      },
      "execution_count": 80,
      "outputs": [
        {
          "output_type": "stream",
          "name": "stdout",
          "text": [
            "x is True\n",
            "y is False\n",
            "a: 7\n",
            "b: 90\n"
          ]
        }
      ]
    },
    {
      "cell_type": "code",
      "source": [
        "fruits1 = (\"Banana\", \"Apple\", \"Strawberry\")             # tuple ()\n",
        "fruits2 = [\"Banana\", \"Apple\", \"Strawberry\"]             # list []\n",
        "fruits3 = {\"Banana\", \"Apple\", \"Strawberry\"}             # set {}\n",
        "fruits4 = {\"1\":\"Banana\", \"2\":\"Apple\", \"3\":\"Strawberry\"} # dictionary {\"Key\":\"Value\"}\n",
        "\n",
        "print(fruits1)\n",
        "print(fruits2)\n",
        "print(fruits3)\n",
        "print(fruits4)"
      ],
      "metadata": {
        "colab": {
          "base_uri": "https://localhost:8080/"
        },
        "id": "RML3SqY6pGsh",
        "outputId": "e60d1122-2733-44cd-c753-ed5f35ba4b0c"
      },
      "execution_count": 82,
      "outputs": [
        {
          "output_type": "stream",
          "name": "stdout",
          "text": [
            "('Banana', 'Apple', 'Strawberry')\n",
            "['Banana', 'Apple', 'Strawberry']\n",
            "{'Strawberry', 'Apple', 'Banana'}\n",
            "{'1': 'Banana', '2': 'Apple', '3': 'Strawberry'}\n"
          ]
        }
      ]
    },
    {
      "cell_type": "code",
      "source": [
        "a = [22, 463, 778, 215, 268, 2]\n",
        "a\n"
      ],
      "metadata": {
        "colab": {
          "base_uri": "https://localhost:8080/"
        },
        "id": "qvvwQhlgp6XF",
        "outputId": "d3bf6d4d-b154-4350-e260-7f9cd5685d48"
      },
      "execution_count": 83,
      "outputs": [
        {
          "output_type": "execute_result",
          "data": {
            "text/plain": [
              "[22, 463, 778, 215, 268, 2]"
            ]
          },
          "metadata": {},
          "execution_count": 83
        }
      ]
    },
    {
      "cell_type": "code",
      "source": [
        "a = set(a) #type conversion\n",
        "a"
      ],
      "metadata": {
        "colab": {
          "base_uri": "https://localhost:8080/"
        },
        "id": "19e-BZuIvHXL",
        "outputId": "df4d9a45-45ba-487e-f634-788e8a18636a"
      },
      "execution_count": 85,
      "outputs": [
        {
          "output_type": "execute_result",
          "data": {
            "text/plain": [
              "{2, 22, 215, 268, 463, 778}"
            ]
          },
          "metadata": {},
          "execution_count": 85
        }
      ]
    },
    {
      "cell_type": "code",
      "source": [
        "a = list(a) #type conversion\n",
        "a"
      ],
      "metadata": {
        "colab": {
          "base_uri": "https://localhost:8080/"
        },
        "id": "AMqf3hWTvN1u",
        "outputId": "4b6cae31-bfa8-4d3f-913a-811784190997"
      },
      "execution_count": 87,
      "outputs": [
        {
          "output_type": "execute_result",
          "data": {
            "text/plain": [
              "[2, 22, 215, 778, 268, 463]"
            ]
          },
          "metadata": {},
          "execution_count": 87
        }
      ]
    },
    {
      "cell_type": "code",
      "source": [
        "a = a[2] #defining a set value\n",
        "a\n"
      ],
      "metadata": {
        "colab": {
          "base_uri": "https://localhost:8080/"
        },
        "id": "JAon8nBQvSyn",
        "outputId": "81f7c8de-2b93-4596-d4a3-1287805a6967"
      },
      "execution_count": 90,
      "outputs": [
        {
          "output_type": "execute_result",
          "data": {
            "text/plain": [
              "215"
            ]
          },
          "metadata": {},
          "execution_count": 90
        }
      ]
    },
    {
      "cell_type": "markdown",
      "source": [
        "**DICTIONARY**"
      ],
      "metadata": {
        "id": "yGHjC2U5vzmv"
      }
    },
    {
      "cell_type": "code",
      "source": [
        "d = {1: 'Apple', 2: 'Cat', 3: 'Food'}  # 'Apple' is element and 1 is the key of element.\n",
        "print(d)\n",
        "\n",
        "d[3]"
      ],
      "metadata": {
        "colab": {
          "base_uri": "https://localhost:8080/",
          "height": 53
        },
        "id": "aHbBh1dhvXlW",
        "outputId": "9eb182b4-ff49-4422-fdb4-b6f36e6260a3"
      },
      "execution_count": 93,
      "outputs": [
        {
          "output_type": "stream",
          "name": "stdout",
          "text": [
            "{1: 'Apple', 2: 'Cat', 3: 'Food'}\n"
          ]
        },
        {
          "output_type": "execute_result",
          "data": {
            "text/plain": [
              "'Food'"
            ],
            "application/vnd.google.colaboratory.intrinsic+json": {
              "type": "string"
            }
          },
          "metadata": {},
          "execution_count": 93
        }
      ]
    },
    {
      "cell_type": "code",
      "source": [
        "type(d)"
      ],
      "metadata": {
        "colab": {
          "base_uri": "https://localhost:8080/"
        },
        "id": "YU1Uyg5kwIV-",
        "outputId": "89a0ecd3-be26-4d66-cc6f-437bee491d7c"
      },
      "execution_count": 94,
      "outputs": [
        {
          "output_type": "execute_result",
          "data": {
            "text/plain": [
              "dict"
            ]
          },
          "metadata": {},
          "execution_count": 94
        }
      ]
    },
    {
      "cell_type": "code",
      "source": [],
      "metadata": {
        "id": "l2wsyqs2wiUd"
      },
      "execution_count": null,
      "outputs": []
    }
  ]
}